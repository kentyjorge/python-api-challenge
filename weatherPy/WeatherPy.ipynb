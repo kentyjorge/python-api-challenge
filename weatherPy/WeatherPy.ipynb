{
 "cells": [
  {
   "cell_type": "markdown",
   "metadata": {},
   "source": [
    "# WeatherPy\n",
    "----\n",
    "\n",
    "#### Note\n",
    "* Instructions have been included for each segment. You do not have to follow them exactly, but they are included to help you think through the steps."
   ]
  },
  {
   "cell_type": "code",
   "execution_count": 25,
   "metadata": {
    "scrolled": true
   },
   "outputs": [],
   "source": [
    "# Dependencies and Setup\n",
    "import matplotlib.pyplot as plt\n",
    "import pandas as pd\n",
    "import numpy as np\n",
    "import requests\n",
    "import time\n",
    "from scipy.stats import linregress\n",
    "from pprint import pprint\n",
    "\n",
    "# Import API key\n",
    "from api_keys import weather_api_key\n",
    "\n",
    "# Incorporated citipy to determine city based on latitude and longitude\n",
    "from citipy import citipy\n",
    "\n",
    "# Output File (CSV)\n",
    "output_data_file = \"output_data/cities.csv\"\n",
    "\n",
    "# Range of latitudes and longitudes\n",
    "lat_range = (-90, 90)\n",
    "lng_range = (-180, 180)"
   ]
  },
  {
   "cell_type": "markdown",
   "metadata": {},
   "source": [
    "## Generate Cities List"
   ]
  },
  {
   "cell_type": "code",
   "execution_count": 2,
   "metadata": {},
   "outputs": [
    {
     "data": {
      "text/plain": [
       "627"
      ]
     },
     "execution_count": 2,
     "metadata": {},
     "output_type": "execute_result"
    }
   ],
   "source": [
    "# List for holding lat_lngs and cities\n",
    "lat_lngs = []\n",
    "cities = []\n",
    "\n",
    "# Create a set of random lat and lng combinations\n",
    "lats = np.random.uniform(lat_range[0], lat_range[1], size=1500)\n",
    "lngs = np.random.uniform(lng_range[0], lng_range[1], size=1500)\n",
    "lat_lngs = zip(lats, lngs)\n",
    "\n",
    "# Identify nearest city for each lat, lng combination\n",
    "for lat_lng in lat_lngs:\n",
    "    city = citipy.nearest_city(lat_lng[0], lat_lng[1]).city_name\n",
    "    \n",
    "    # If the city is unique, then add it to a our cities list\n",
    "    if city not in cities:\n",
    "        cities.append(city)\n",
    "\n",
    "# Print the city count to confirm sufficient count\n",
    "len(cities)"
   ]
  },
  {
   "cell_type": "markdown",
   "metadata": {},
   "source": [
    "### Perform API Calls\n",
    "* Perform a weather check on each city using a series of successive API calls.\n",
    "* Include a print log of each city as it'sbeing processed (with the city number and city name).\n"
   ]
  },
  {
   "cell_type": "code",
   "execution_count": 75,
   "metadata": {},
   "outputs": [
    {
     "name": "stdout",
     "output_type": "stream",
     "text": [
      "{'base': 'stations',\n",
      " 'clouds': {'all': 33},\n",
      " 'cod': 200,\n",
      " 'coord': {'lat': 41.85, 'lon': -87.65},\n",
      " 'dt': 1644076770,\n",
      " 'id': 4887398,\n",
      " 'main': {'feels_like': 259.31,\n",
      "          'humidity': 69,\n",
      "          'pressure': 1034,\n",
      "          'temp': 262.23,\n",
      "          'temp_max': 264.28,\n",
      "          'temp_min': 258.86},\n",
      " 'name': 'Chicago',\n",
      " 'sys': {'country': 'US',\n",
      "         'id': 2005153,\n",
      "         'sunrise': 1644065929,\n",
      "         'sunset': 1644102625,\n",
      "         'type': 2},\n",
      " 'timezone': -21600,\n",
      " 'visibility': 10000,\n",
      " 'weather': [{'description': 'scattered clouds',\n",
      "              'icon': '03d',\n",
      "              'id': 802,\n",
      "              'main': 'Clouds'}],\n",
      " 'wind': {'deg': 242, 'gust': 3.13, 'speed': 1.34}}\n"
     ]
    }
   ],
   "source": [
    "#checkapi = requests.get(\"http://api.openweathermap.org/data/2.5/weather?appid=3dd7ee89d375aae64434e675c2fc81f3&q=chicago\").json()\n",
    "#pprint(checkapi)"
   ]
  },
  {
   "cell_type": "code",
   "execution_count": 98,
   "metadata": {},
   "outputs": [
    {
     "data": {
      "text/html": [
       "<div>\n",
       "<style scoped>\n",
       "    .dataframe tbody tr th:only-of-type {\n",
       "        vertical-align: middle;\n",
       "    }\n",
       "\n",
       "    .dataframe tbody tr th {\n",
       "        vertical-align: top;\n",
       "    }\n",
       "\n",
       "    .dataframe thead th {\n",
       "        text-align: right;\n",
       "    }\n",
       "</style>\n",
       "<table border=\"1\" class=\"dataframe\">\n",
       "  <thead>\n",
       "    <tr style=\"text-align: right;\">\n",
       "      <th></th>\n",
       "      <th>city</th>\n",
       "    </tr>\n",
       "  </thead>\n",
       "  <tbody>\n",
       "    <tr>\n",
       "      <th>0</th>\n",
       "      <td>illoqqortoormiut</td>\n",
       "    </tr>\n",
       "    <tr>\n",
       "      <th>1</th>\n",
       "      <td>butaritari</td>\n",
       "    </tr>\n",
       "    <tr>\n",
       "      <th>2</th>\n",
       "      <td>mandan</td>\n",
       "    </tr>\n",
       "    <tr>\n",
       "      <th>3</th>\n",
       "      <td>pisco</td>\n",
       "    </tr>\n",
       "    <tr>\n",
       "      <th>4</th>\n",
       "      <td>geraldton</td>\n",
       "    </tr>\n",
       "    <tr>\n",
       "      <th>...</th>\n",
       "      <td>...</td>\n",
       "    </tr>\n",
       "    <tr>\n",
       "      <th>622</th>\n",
       "      <td>wuxue</td>\n",
       "    </tr>\n",
       "    <tr>\n",
       "      <th>623</th>\n",
       "      <td>broome</td>\n",
       "    </tr>\n",
       "    <tr>\n",
       "      <th>624</th>\n",
       "      <td>qandahar</td>\n",
       "    </tr>\n",
       "    <tr>\n",
       "      <th>625</th>\n",
       "      <td>bambous virieux</td>\n",
       "    </tr>\n",
       "    <tr>\n",
       "      <th>626</th>\n",
       "      <td>cabedelo</td>\n",
       "    </tr>\n",
       "  </tbody>\n",
       "</table>\n",
       "<p>627 rows × 1 columns</p>\n",
       "</div>"
      ],
      "text/plain": [
       "                 city\n",
       "0    illoqqortoormiut\n",
       "1          butaritari\n",
       "2              mandan\n",
       "3               pisco\n",
       "4           geraldton\n",
       "..                ...\n",
       "622             wuxue\n",
       "623            broome\n",
       "624          qandahar\n",
       "625   bambous virieux\n",
       "626          cabedelo\n",
       "\n",
       "[627 rows x 1 columns]"
      ]
     },
     "execution_count": 98,
     "metadata": {},
     "output_type": "execute_result"
    }
   ],
   "source": [
    "\n",
    "city_info_df = pd.DataFrame(cities, columns=[\"city\"])\n",
    "city_info_df"
   ]
  },
  {
   "cell_type": "code",
   "execution_count": 100,
   "metadata": {},
   "outputs": [
    {
     "data": {
      "text/html": [
       "<div>\n",
       "<style scoped>\n",
       "    .dataframe tbody tr th:only-of-type {\n",
       "        vertical-align: middle;\n",
       "    }\n",
       "\n",
       "    .dataframe tbody tr th {\n",
       "        vertical-align: top;\n",
       "    }\n",
       "\n",
       "    .dataframe thead th {\n",
       "        text-align: right;\n",
       "    }\n",
       "</style>\n",
       "<table border=\"1\" class=\"dataframe\">\n",
       "  <thead>\n",
       "    <tr style=\"text-align: right;\">\n",
       "      <th></th>\n",
       "      <th>city</th>\n",
       "      <th>lat</th>\n",
       "      <th>lng</th>\n",
       "      <th>max temp</th>\n",
       "      <th>humidity</th>\n",
       "      <th>cloudiness</th>\n",
       "      <th>windspeed</th>\n",
       "      <th>country</th>\n",
       "      <th>dat</th>\n",
       "      <th>date</th>\n",
       "    </tr>\n",
       "  </thead>\n",
       "  <tbody>\n",
       "    <tr>\n",
       "      <th>0</th>\n",
       "      <td>illoqqortoormiut</td>\n",
       "      <td></td>\n",
       "      <td></td>\n",
       "      <td></td>\n",
       "      <td></td>\n",
       "      <td></td>\n",
       "      <td></td>\n",
       "      <td></td>\n",
       "      <td></td>\n",
       "      <td></td>\n",
       "    </tr>\n",
       "    <tr>\n",
       "      <th>1</th>\n",
       "      <td>butaritari</td>\n",
       "      <td></td>\n",
       "      <td></td>\n",
       "      <td></td>\n",
       "      <td></td>\n",
       "      <td></td>\n",
       "      <td></td>\n",
       "      <td></td>\n",
       "      <td></td>\n",
       "      <td></td>\n",
       "    </tr>\n",
       "    <tr>\n",
       "      <th>2</th>\n",
       "      <td>mandan</td>\n",
       "      <td></td>\n",
       "      <td></td>\n",
       "      <td></td>\n",
       "      <td></td>\n",
       "      <td></td>\n",
       "      <td></td>\n",
       "      <td></td>\n",
       "      <td></td>\n",
       "      <td></td>\n",
       "    </tr>\n",
       "    <tr>\n",
       "      <th>3</th>\n",
       "      <td>pisco</td>\n",
       "      <td></td>\n",
       "      <td></td>\n",
       "      <td></td>\n",
       "      <td></td>\n",
       "      <td></td>\n",
       "      <td></td>\n",
       "      <td></td>\n",
       "      <td></td>\n",
       "      <td></td>\n",
       "    </tr>\n",
       "    <tr>\n",
       "      <th>4</th>\n",
       "      <td>geraldton</td>\n",
       "      <td></td>\n",
       "      <td></td>\n",
       "      <td></td>\n",
       "      <td></td>\n",
       "      <td></td>\n",
       "      <td></td>\n",
       "      <td></td>\n",
       "      <td></td>\n",
       "      <td></td>\n",
       "    </tr>\n",
       "  </tbody>\n",
       "</table>\n",
       "</div>"
      ],
      "text/plain": [
       "               city lat lng max temp humidity cloudiness windspeed country  \\\n",
       "0  illoqqortoormiut                                                          \n",
       "1        butaritari                                                          \n",
       "2            mandan                                                          \n",
       "3             pisco                                                          \n",
       "4         geraldton                                                          \n",
       "\n",
       "  dat date  \n",
       "0           \n",
       "1           \n",
       "2           \n",
       "3           \n",
       "4           "
      ]
     },
     "execution_count": 100,
     "metadata": {},
     "output_type": "execute_result"
    }
   ],
   "source": [
    "city_info_df['lat'] = \"\"\n",
    "city_info_df['lng'] = \"\"\n",
    "city_info_df['max temp'] = \"\"\n",
    "city_info_df['humidity'] = \"\"\n",
    "city_info_df['cloudiness'] = \"\"\n",
    "city_info_df['windspeed'] = \"\"\n",
    "city_info_df['country'] = \"\"\n",
    "city_info_df['date'] = \"\"\n",
    "city_info_df.head()"
   ]
  },
  {
   "cell_type": "code",
   "execution_count": 87,
   "metadata": {},
   "outputs": [
    {
     "data": {
      "text/html": [
       "<div>\n",
       "<style scoped>\n",
       "    .dataframe tbody tr th:only-of-type {\n",
       "        vertical-align: middle;\n",
       "    }\n",
       "\n",
       "    .dataframe tbody tr th {\n",
       "        vertical-align: top;\n",
       "    }\n",
       "\n",
       "    .dataframe thead th {\n",
       "        text-align: right;\n",
       "    }\n",
       "</style>\n",
       "<table border=\"1\" class=\"dataframe\">\n",
       "  <thead>\n",
       "    <tr style=\"text-align: right;\">\n",
       "      <th></th>\n",
       "      <th>city</th>\n",
       "      <th>lat</th>\n",
       "      <th>lng</th>\n",
       "      <th>max temp</th>\n",
       "      <th>humidity</th>\n",
       "      <th>cloudiness</th>\n",
       "      <th>windspeed</th>\n",
       "      <th>country</th>\n",
       "      <th>date</th>\n",
       "    </tr>\n",
       "  </thead>\n",
       "  <tbody>\n",
       "    <tr>\n",
       "      <th>0</th>\n",
       "      <td>Chicago</td>\n",
       "      <td>41.85</td>\n",
       "      <td>-87.65</td>\n",
       "      <td>264.28</td>\n",
       "      <td>69</td>\n",
       "      <td>Clouds</td>\n",
       "      <td>1.34</td>\n",
       "      <td>US</td>\n",
       "      <td>1644076770</td>\n",
       "    </tr>\n",
       "  </tbody>\n",
       "</table>\n",
       "</div>"
      ],
      "text/plain": [
       "      city    lat    lng  max temp  humidity cloudiness  windspeed country  \\\n",
       "0  Chicago  41.85 -87.65    264.28        69     Clouds       1.34      US   \n",
       "\n",
       "         date  \n",
       "0  1644076770  "
      ]
     },
     "execution_count": 87,
     "metadata": {},
     "output_type": "execute_result"
    }
   ],
   "source": [
    "\n",
    "# city_info_df = pd.DataFrame({\n",
    "#     \"city\": checkapi['name'],\n",
    "#     \"lat\": checkapi['coord']['lat'],\n",
    "#     \"lng\":checkapi['coord']['lon'],\n",
    "#     \"max temp\": checkapi['main']['temp_max'],\n",
    "#     \"humidity\": checkapi['main']['humidity'],\n",
    "#     \"cloudiness\": checkapi['weather'][0]['main'],\n",
    "#     \"windspeed\": checkapi['wind']['speed'],\n",
    "#     \"country\": checkapi['sys']['country'],\n",
    "#     \"date\": checkapi['dt']\n",
    "# },index=[0])\n",
    "# city_info_df"
   ]
  },
  {
   "cell_type": "code",
   "execution_count": 88,
   "metadata": {},
   "outputs": [
    {
     "data": {
      "text/html": [
       "<div>\n",
       "<style scoped>\n",
       "    .dataframe tbody tr th:only-of-type {\n",
       "        vertical-align: middle;\n",
       "    }\n",
       "\n",
       "    .dataframe tbody tr th {\n",
       "        vertical-align: top;\n",
       "    }\n",
       "\n",
       "    .dataframe thead th {\n",
       "        text-align: right;\n",
       "    }\n",
       "</style>\n",
       "<table border=\"1\" class=\"dataframe\">\n",
       "  <thead>\n",
       "    <tr style=\"text-align: right;\">\n",
       "      <th></th>\n",
       "      <th>city</th>\n",
       "      <th>lat</th>\n",
       "      <th>lng</th>\n",
       "      <th>max temp</th>\n",
       "      <th>humidity</th>\n",
       "      <th>cloudiness</th>\n",
       "      <th>windspeed</th>\n",
       "      <th>country</th>\n",
       "      <th>date</th>\n",
       "    </tr>\n",
       "  </thead>\n",
       "  <tbody>\n",
       "    <tr>\n",
       "      <th>0</th>\n",
       "      <td>Chicago</td>\n",
       "      <td>41.85</td>\n",
       "      <td>-87.65</td>\n",
       "      <td>264.28</td>\n",
       "      <td>69</td>\n",
       "      <td>Clouds</td>\n",
       "      <td>1.34</td>\n",
       "      <td>US</td>\n",
       "      <td>1644076770</td>\n",
       "    </tr>\n",
       "  </tbody>\n",
       "</table>\n",
       "</div>"
      ],
      "text/plain": [
       "      city    lat    lng  max temp  humidity cloudiness  windspeed country  \\\n",
       "0  Chicago  41.85 -87.65    264.28        69     Clouds       1.34      US   \n",
       "\n",
       "         date  \n",
       "0  1644076770  "
      ]
     },
     "execution_count": 88,
     "metadata": {},
     "output_type": "execute_result"
    }
   ],
   "source": [
    "# city_info_df = pd.DataFrame({\n",
    "#     \"city\": [checkapi['name']],\n",
    "#     \"lat\": [checkapi['coord']['lat']],\n",
    "#     \"lng\": [checkapi['coord']['lon']],\n",
    "#     \"max temp\": [checkapi['main']['temp_max']],\n",
    "#     \"humidity\": [checkapi['main']['humidity']],\n",
    "#     \"cloudiness\": [checkapi['weather'][0]['main']],\n",
    "#     \"windspeed\": [checkapi['wind']['speed']],\n",
    "#     \"country\": [checkapi['sys']['country']],\n",
    "#     \"date\": [checkapi['dt']]\n",
    "# })\n",
    "# city_info_df"
   ]
  },
  {
   "cell_type": "code",
   "execution_count": 77,
   "metadata": {},
   "outputs": [
    {
     "name": "stdout",
     "output_type": "stream",
     "text": [
      "illoqqortoormiut\n",
      "http://api.openweathermap.org/data/2.5/weather?appid=3dd7ee89d375aae64434e675c2fc81f3&q=illoqqortoormiut\n",
      "butaritari\n",
      "http://api.openweathermap.org/data/2.5/weather?appid=3dd7ee89d375aae64434e675c2fc81f3&q=butaritari\n",
      "mandan\n",
      "http://api.openweathermap.org/data/2.5/weather?appid=3dd7ee89d375aae64434e675c2fc81f3&q=mandan\n",
      "pisco\n",
      "http://api.openweathermap.org/data/2.5/weather?appid=3dd7ee89d375aae64434e675c2fc81f3&q=pisco\n",
      "geraldton\n",
      "http://api.openweathermap.org/data/2.5/weather?appid=3dd7ee89d375aae64434e675c2fc81f3&q=geraldton\n"
     ]
    }
   ],
   "source": [
    "# for c in cities[0:5]:\n",
    "#     url = \"http://api.openweathermap.org/data/2.5/weather?\"\n",
    "#     # Build query URL\n",
    "#     print(c)\n",
    "#     query_url = url + \"appid=\" + weather_api_key + \"&q=\" + c\n",
    "#     print(query_url)"
   ]
  },
  {
   "cell_type": "code",
   "execution_count": 105,
   "metadata": {},
   "outputs": [],
   "source": [
    "# for c in cities[0:5]:\n",
    "#     url = \"http://api.openweathermap.org/data/2.5/weather?\"\n",
    "#     query_url = url + \"appid=\" + weather_api_key + \"&q=\" + c\n",
    "#     weather_response = requests.get(query_url)\n",
    "#     pprint(weather_response.json())"
   ]
  },
  {
   "cell_type": "code",
   "execution_count": null,
   "metadata": {},
   "outputs": [],
   "source": [
    "url = \"http://api.openweathermap.org/data/2.5/weather?\"\n",
    "#query_url = url + \"appid=\" + weather_api_key + \"&q=\" + c"
   ]
  },
  {
   "cell_type": "code",
   "execution_count": null,
   "metadata": {},
   "outputs": [],
   "source": [
    "#     \"city\": checkapi['name'],\n",
    "#     \"lat\": checkapi['coord']['lat'],\n",
    "#     \"lng\":checkapi['coord']['lon'],\n",
    "#     \"max temp\": checkapi['main']['temp_max'],\n",
    "#     \"humidity\": checkapi['main']['humidity'],\n",
    "#     \"cloudiness\": checkapi['weather'][0]['main'],\n",
    "#     \"windspeed\": checkapi['wind']['speed'],\n",
    "#     \"country\": checkapi['sys']['country'],\n",
    "#     \"date\": checkapi['dt']"
   ]
  },
  {
   "cell_type": "code",
   "execution_count": 115,
   "metadata": {
    "scrolled": true
   },
   "outputs": [
    {
     "name": "stdout",
     "output_type": "stream",
     "text": [
      "city illoqqortoormiut not found\n",
      "city chikoy not found\n",
      "city karaul not found\n",
      "city attawapiskat not found\n",
      "city tsihombe not found\n",
      "city taolanaro not found\n",
      "city we not found\n",
      "city vaitupu not found\n",
      "city falealupo not found\n",
      "city ngukurr not found\n",
      "city amderma not found\n",
      "city mrirt not found\n",
      "city saleaula not found\n",
      "city nizhneyansk not found\n",
      "city rungata not found\n",
      "city pokrovsk-uralskiy not found\n",
      "city fort saint john not found\n",
      "city tumannyy not found\n",
      "city mys shmidta not found\n",
      "city guajara-mirim not found\n",
      "city louisbourg not found\n",
      "city barentsburg not found\n",
      "city buqayq not found\n",
      "city lolua not found\n",
      "city tarudant not found\n",
      "city burica not found\n",
      "city vestbygda not found\n",
      "city karauzyak not found\n",
      "city dolbeau not found\n",
      "city belushya guba not found\n",
      "city grand river south east not found\n",
      "city sug-aksy not found\n",
      "city meyungs not found\n",
      "city palabuhanratu not found\n",
      "city galiwinku not found\n",
      "city sentyabrskiy not found\n",
      "city longlac not found\n",
      "city sataua not found\n",
      "city nguiu not found\n",
      "city skalistyy not found\n",
      "city makung not found\n",
      "city samalaeulu not found\n",
      "city karkaralinsk not found\n",
      "city mocambique not found\n",
      "city utiroa not found\n",
      "city samusu not found\n",
      "city ijaki not found\n",
      "city kuche not found\n",
      "city qandahar not found\n"
     ]
    },
    {
     "data": {
      "text/html": [
       "<div>\n",
       "<style scoped>\n",
       "    .dataframe tbody tr th:only-of-type {\n",
       "        vertical-align: middle;\n",
       "    }\n",
       "\n",
       "    .dataframe tbody tr th {\n",
       "        vertical-align: top;\n",
       "    }\n",
       "\n",
       "    .dataframe thead th {\n",
       "        text-align: right;\n",
       "    }\n",
       "</style>\n",
       "<table border=\"1\" class=\"dataframe\">\n",
       "  <thead>\n",
       "    <tr style=\"text-align: right;\">\n",
       "      <th></th>\n",
       "      <th>city</th>\n",
       "      <th>lat</th>\n",
       "      <th>lng</th>\n",
       "      <th>max temp</th>\n",
       "      <th>humidity</th>\n",
       "      <th>cloudiness</th>\n",
       "      <th>windspeed</th>\n",
       "      <th>country</th>\n",
       "      <th>dat</th>\n",
       "      <th>date</th>\n",
       "      <th>name</th>\n",
       "    </tr>\n",
       "  </thead>\n",
       "  <tbody>\n",
       "    <tr>\n",
       "      <th>0</th>\n",
       "      <td>illoqqortoormiut</td>\n",
       "      <td></td>\n",
       "      <td></td>\n",
       "      <td></td>\n",
       "      <td></td>\n",
       "      <td></td>\n",
       "      <td></td>\n",
       "      <td></td>\n",
       "      <td></td>\n",
       "      <td></td>\n",
       "      <td>NaN</td>\n",
       "    </tr>\n",
       "    <tr>\n",
       "      <th>1</th>\n",
       "      <td>butaritari</td>\n",
       "      <td>3.0707</td>\n",
       "      <td>172.7902</td>\n",
       "      <td>301.3</td>\n",
       "      <td>73</td>\n",
       "      <td>52</td>\n",
       "      <td>8.64</td>\n",
       "      <td>KI</td>\n",
       "      <td></td>\n",
       "      <td>1644099844</td>\n",
       "      <td>Butaritari</td>\n",
       "    </tr>\n",
       "    <tr>\n",
       "      <th>2</th>\n",
       "      <td>mandan</td>\n",
       "      <td>46.8267</td>\n",
       "      <td>-100.8896</td>\n",
       "      <td>280.39</td>\n",
       "      <td>72</td>\n",
       "      <td>0</td>\n",
       "      <td>3.6</td>\n",
       "      <td>US</td>\n",
       "      <td></td>\n",
       "      <td>1644099845</td>\n",
       "      <td>Mandan</td>\n",
       "    </tr>\n",
       "    <tr>\n",
       "      <th>3</th>\n",
       "      <td>pisco</td>\n",
       "      <td>-13.7</td>\n",
       "      <td>-76.2167</td>\n",
       "      <td>296.49</td>\n",
       "      <td>83</td>\n",
       "      <td>0</td>\n",
       "      <td>3.6</td>\n",
       "      <td>PE</td>\n",
       "      <td></td>\n",
       "      <td>1644099835</td>\n",
       "      <td>Pisco</td>\n",
       "    </tr>\n",
       "    <tr>\n",
       "      <th>4</th>\n",
       "      <td>geraldton</td>\n",
       "      <td>-28.7667</td>\n",
       "      <td>114.6</td>\n",
       "      <td>296.38</td>\n",
       "      <td>88</td>\n",
       "      <td>100</td>\n",
       "      <td>4.63</td>\n",
       "      <td>AU</td>\n",
       "      <td></td>\n",
       "      <td>1644099845</td>\n",
       "      <td>Geraldton</td>\n",
       "    </tr>\n",
       "    <tr>\n",
       "      <th>...</th>\n",
       "      <td>...</td>\n",
       "      <td>...</td>\n",
       "      <td>...</td>\n",
       "      <td>...</td>\n",
       "      <td>...</td>\n",
       "      <td>...</td>\n",
       "      <td>...</td>\n",
       "      <td>...</td>\n",
       "      <td>...</td>\n",
       "      <td>...</td>\n",
       "      <td>...</td>\n",
       "    </tr>\n",
       "    <tr>\n",
       "      <th>622</th>\n",
       "      <td>wuxue</td>\n",
       "      <td>29.8506</td>\n",
       "      <td>115.5525</td>\n",
       "      <td>276.38</td>\n",
       "      <td>56</td>\n",
       "      <td>98</td>\n",
       "      <td>3.69</td>\n",
       "      <td>CN</td>\n",
       "      <td></td>\n",
       "      <td>1644100023</td>\n",
       "      <td>Wuxue</td>\n",
       "    </tr>\n",
       "    <tr>\n",
       "      <th>623</th>\n",
       "      <td>broome</td>\n",
       "      <td>42.2506</td>\n",
       "      <td>-75.833</td>\n",
       "      <td>264.38</td>\n",
       "      <td>69</td>\n",
       "      <td>0</td>\n",
       "      <td>0.89</td>\n",
       "      <td>US</td>\n",
       "      <td></td>\n",
       "      <td>1644100023</td>\n",
       "      <td>Broome</td>\n",
       "    </tr>\n",
       "    <tr>\n",
       "      <th>624</th>\n",
       "      <td>qandahar</td>\n",
       "      <td></td>\n",
       "      <td></td>\n",
       "      <td></td>\n",
       "      <td></td>\n",
       "      <td></td>\n",
       "      <td></td>\n",
       "      <td></td>\n",
       "      <td></td>\n",
       "      <td></td>\n",
       "      <td>NaN</td>\n",
       "    </tr>\n",
       "    <tr>\n",
       "      <th>625</th>\n",
       "      <td>bambous virieux</td>\n",
       "      <td>-20.3428</td>\n",
       "      <td>57.7575</td>\n",
       "      <td>299.38</td>\n",
       "      <td>89</td>\n",
       "      <td>40</td>\n",
       "      <td>5.14</td>\n",
       "      <td>MU</td>\n",
       "      <td></td>\n",
       "      <td>1644100024</td>\n",
       "      <td>Bambous Virieux</td>\n",
       "    </tr>\n",
       "    <tr>\n",
       "      <th>626</th>\n",
       "      <td>cabedelo</td>\n",
       "      <td>-6.9811</td>\n",
       "      <td>-34.8339</td>\n",
       "      <td>299.52</td>\n",
       "      <td>69</td>\n",
       "      <td>23</td>\n",
       "      <td>5.18</td>\n",
       "      <td>BR</td>\n",
       "      <td></td>\n",
       "      <td>1644100024</td>\n",
       "      <td>Cabedelo</td>\n",
       "    </tr>\n",
       "  </tbody>\n",
       "</table>\n",
       "<p>627 rows × 11 columns</p>\n",
       "</div>"
      ],
      "text/plain": [
       "                 city      lat       lng max temp humidity cloudiness  \\\n",
       "0    illoqqortoormiut                                                   \n",
       "1          butaritari   3.0707  172.7902    301.3       73         52   \n",
       "2              mandan  46.8267 -100.8896   280.39       72          0   \n",
       "3               pisco    -13.7  -76.2167   296.49       83          0   \n",
       "4           geraldton -28.7667     114.6   296.38       88        100   \n",
       "..                ...      ...       ...      ...      ...        ...   \n",
       "622             wuxue  29.8506  115.5525   276.38       56         98   \n",
       "623            broome  42.2506   -75.833   264.38       69          0   \n",
       "624          qandahar                                                   \n",
       "625   bambous virieux -20.3428   57.7575   299.38       89         40   \n",
       "626          cabedelo  -6.9811  -34.8339   299.52       69         23   \n",
       "\n",
       "    windspeed country dat        date             name  \n",
       "0                                                  NaN  \n",
       "1        8.64      KI      1644099844       Butaritari  \n",
       "2         3.6      US      1644099845           Mandan  \n",
       "3         3.6      PE      1644099835            Pisco  \n",
       "4        4.63      AU      1644099845        Geraldton  \n",
       "..        ...     ...  ..         ...              ...  \n",
       "622      3.69      CN      1644100023            Wuxue  \n",
       "623      0.89      US      1644100023           Broome  \n",
       "624                                                NaN  \n",
       "625      5.14      MU      1644100024  Bambous Virieux  \n",
       "626      5.18      BR      1644100024         Cabedelo  \n",
       "\n",
       "[627 rows x 11 columns]"
      ]
     },
     "execution_count": 115,
     "metadata": {},
     "output_type": "execute_result"
    }
   ],
   "source": [
    "for index, row in city_info_df.iterrows():\n",
    "    city = row['city']\n",
    "    query_url = url + \"appid=\" + weather_api_key + \"&q=\" + city\n",
    "    weather_response = requests.get(query_url)\n",
    "    #print(weather_response.json())\n",
    "\n",
    "    try:\n",
    "        \n",
    "\n",
    "        results = weather_response.json()\n",
    "\n",
    "        city_info_df.loc[index, 'name'] = results['name']\n",
    "        city_info_df.loc[index, 'lat'] = results['coord']['lat']\n",
    "        city_info_df.loc[index, 'lng'] = results['coord']['lon']\n",
    "        city_info_df.loc[index, 'max temp'] = results['main']['temp_max']\n",
    "        city_info_df.loc[index, 'humidity'] = results['main']['humidity']\n",
    "        city_info_df.loc[index, 'cloudiness'] = results['clouds']['all']\n",
    "        city_info_df.loc[index, 'windspeed'] = results['wind']['speed']\n",
    "        city_info_df.loc[index, 'country'] = results['sys']['country']\n",
    "        city_info_df.loc[index, 'date'] = results['dt']\n",
    "\n",
    "\n",
    "    except (KeyError, IndexError):\n",
    "        print(f\"city {city} not found\")\n",
    "\n",
    "city_info_df\n",
    "    "
   ]
  },
  {
   "cell_type": "code",
   "execution_count": 117,
   "metadata": {},
   "outputs": [],
   "source": [
    "import scipy.stats as st\n",
    "import sklearn.datasets as dta\n",
    "from scipy.stats import sem"
   ]
  },
  {
   "cell_type": "code",
   "execution_count": 118,
   "metadata": {},
   "outputs": [
    {
     "data": {
      "text/plain": [
       "city          627\n",
       "lat           627\n",
       "lng           627\n",
       "max temp      627\n",
       "humidity      627\n",
       "cloudiness    627\n",
       "windspeed     627\n",
       "country       627\n",
       "dat           627\n",
       "date          627\n",
       "name          578\n",
       "dtype: int64"
      ]
     },
     "execution_count": 118,
     "metadata": {},
     "output_type": "execute_result"
    }
   ],
   "source": [
    "city_info_df.count()"
   ]
  },
  {
   "cell_type": "markdown",
   "metadata": {},
   "source": [
    "### Convert Raw Data to DataFrame\n",
    "* Export the city data into a .csv.\n",
    "* Display the DataFrame"
   ]
  },
  {
   "cell_type": "code",
   "execution_count": 137,
   "metadata": {},
   "outputs": [
    {
     "name": "stdout",
     "output_type": "stream",
     "text": [
      "city           object\n",
      "lat            object\n",
      "lng            object\n",
      "max temp      float64\n",
      "humidity      float64\n",
      "cloudiness    float64\n",
      "windspeed     float64\n",
      "country        object\n",
      "dat            object\n",
      "date           object\n",
      "dtype: object\n"
     ]
    },
    {
     "name": "stderr",
     "output_type": "stream",
     "text": [
      "/var/folders/4s/j3_l93ts54qgnyg57c9s590m0000gn/T/ipykernel_26568/843484059.py:1: SettingWithCopyWarning: \n",
      "A value is trying to be set on a copy of a slice from a DataFrame.\n",
      "Try using .loc[row_indexer,col_indexer] = value instead\n",
      "\n",
      "See the caveats in the documentation: https://pandas.pydata.org/pandas-docs/stable/user_guide/indexing.html#returning-a-view-versus-a-copy\n",
      "  city_info_df['max temp'] = city_info_df['max temp'].astype(float)\n",
      "/var/folders/4s/j3_l93ts54qgnyg57c9s590m0000gn/T/ipykernel_26568/843484059.py:2: SettingWithCopyWarning: \n",
      "A value is trying to be set on a copy of a slice from a DataFrame.\n",
      "Try using .loc[row_indexer,col_indexer] = value instead\n",
      "\n",
      "See the caveats in the documentation: https://pandas.pydata.org/pandas-docs/stable/user_guide/indexing.html#returning-a-view-versus-a-copy\n",
      "  city_info_df['humidity'] = city_info_df['humidity'].astype(float)\n",
      "/var/folders/4s/j3_l93ts54qgnyg57c9s590m0000gn/T/ipykernel_26568/843484059.py:3: SettingWithCopyWarning: \n",
      "A value is trying to be set on a copy of a slice from a DataFrame.\n",
      "Try using .loc[row_indexer,col_indexer] = value instead\n",
      "\n",
      "See the caveats in the documentation: https://pandas.pydata.org/pandas-docs/stable/user_guide/indexing.html#returning-a-view-versus-a-copy\n",
      "  city_info_df['cloudiness'] = city_info_df['cloudiness'].astype(float)\n",
      "/var/folders/4s/j3_l93ts54qgnyg57c9s590m0000gn/T/ipykernel_26568/843484059.py:4: SettingWithCopyWarning: \n",
      "A value is trying to be set on a copy of a slice from a DataFrame.\n",
      "Try using .loc[row_indexer,col_indexer] = value instead\n",
      "\n",
      "See the caveats in the documentation: https://pandas.pydata.org/pandas-docs/stable/user_guide/indexing.html#returning-a-view-versus-a-copy\n",
      "  city_info_df['windspeed'] = city_info_df['windspeed'].astype(float)\n"
     ]
    }
   ],
   "source": [
    "city_info_df['max temp'] = city_info_df['max temp'].astype(float)\n",
    "city_info_df['humidity'] = city_info_df['humidity'].astype(float)\n",
    "city_info_df['cloudiness'] = city_info_df['cloudiness'].astype(float)\n",
    "city_info_df['windspeed'] = city_info_df['windspeed'].astype(float)\n",
    "print(city_info_df.dtypes)"
   ]
  },
  {
   "cell_type": "code",
   "execution_count": 139,
   "metadata": {},
   "outputs": [
    {
     "data": {
      "text/html": [
       "<div>\n",
       "<style scoped>\n",
       "    .dataframe tbody tr th:only-of-type {\n",
       "        vertical-align: middle;\n",
       "    }\n",
       "\n",
       "    .dataframe tbody tr th {\n",
       "        vertical-align: top;\n",
       "    }\n",
       "\n",
       "    .dataframe thead th {\n",
       "        text-align: right;\n",
       "    }\n",
       "</style>\n",
       "<table border=\"1\" class=\"dataframe\">\n",
       "  <thead>\n",
       "    <tr style=\"text-align: right;\">\n",
       "      <th></th>\n",
       "      <th>city</th>\n",
       "      <th>lat</th>\n",
       "      <th>lng</th>\n",
       "      <th>max temp</th>\n",
       "      <th>humidity</th>\n",
       "      <th>cloudiness</th>\n",
       "      <th>windspeed</th>\n",
       "      <th>country</th>\n",
       "      <th>date</th>\n",
       "    </tr>\n",
       "  </thead>\n",
       "  <tbody>\n",
       "    <tr>\n",
       "      <th>1</th>\n",
       "      <td>butaritari</td>\n",
       "      <td>3.0707</td>\n",
       "      <td>172.7902</td>\n",
       "      <td>301.0</td>\n",
       "      <td>73.0</td>\n",
       "      <td>52.0</td>\n",
       "      <td>8.64</td>\n",
       "      <td>KI</td>\n",
       "      <td>1644099844</td>\n",
       "    </tr>\n",
       "    <tr>\n",
       "      <th>2</th>\n",
       "      <td>mandan</td>\n",
       "      <td>46.8267</td>\n",
       "      <td>-100.8896</td>\n",
       "      <td>280.0</td>\n",
       "      <td>72.0</td>\n",
       "      <td>0.0</td>\n",
       "      <td>3.60</td>\n",
       "      <td>US</td>\n",
       "      <td>1644099845</td>\n",
       "    </tr>\n",
       "    <tr>\n",
       "      <th>3</th>\n",
       "      <td>pisco</td>\n",
       "      <td>-13.7</td>\n",
       "      <td>-76.2167</td>\n",
       "      <td>296.0</td>\n",
       "      <td>83.0</td>\n",
       "      <td>0.0</td>\n",
       "      <td>3.60</td>\n",
       "      <td>PE</td>\n",
       "      <td>1644099835</td>\n",
       "    </tr>\n",
       "    <tr>\n",
       "      <th>4</th>\n",
       "      <td>geraldton</td>\n",
       "      <td>-28.7667</td>\n",
       "      <td>114.6</td>\n",
       "      <td>296.0</td>\n",
       "      <td>88.0</td>\n",
       "      <td>100.0</td>\n",
       "      <td>4.63</td>\n",
       "      <td>AU</td>\n",
       "      <td>1644099845</td>\n",
       "    </tr>\n",
       "    <tr>\n",
       "      <th>5</th>\n",
       "      <td>solnechnyy</td>\n",
       "      <td>50.7214</td>\n",
       "      <td>136.6319</td>\n",
       "      <td>256.0</td>\n",
       "      <td>98.0</td>\n",
       "      <td>100.0</td>\n",
       "      <td>0.23</td>\n",
       "      <td>RU</td>\n",
       "      <td>1644099845</td>\n",
       "    </tr>\n",
       "    <tr>\n",
       "      <th>...</th>\n",
       "      <td>...</td>\n",
       "      <td>...</td>\n",
       "      <td>...</td>\n",
       "      <td>...</td>\n",
       "      <td>...</td>\n",
       "      <td>...</td>\n",
       "      <td>...</td>\n",
       "      <td>...</td>\n",
       "      <td>...</td>\n",
       "    </tr>\n",
       "    <tr>\n",
       "      <th>621</th>\n",
       "      <td>palana</td>\n",
       "      <td>59.1167</td>\n",
       "      <td>159.9667</td>\n",
       "      <td>258.0</td>\n",
       "      <td>86.0</td>\n",
       "      <td>100.0</td>\n",
       "      <td>3.55</td>\n",
       "      <td>RU</td>\n",
       "      <td>1644100023</td>\n",
       "    </tr>\n",
       "    <tr>\n",
       "      <th>622</th>\n",
       "      <td>wuxue</td>\n",
       "      <td>29.8506</td>\n",
       "      <td>115.5525</td>\n",
       "      <td>276.0</td>\n",
       "      <td>56.0</td>\n",
       "      <td>98.0</td>\n",
       "      <td>3.69</td>\n",
       "      <td>CN</td>\n",
       "      <td>1644100023</td>\n",
       "    </tr>\n",
       "    <tr>\n",
       "      <th>623</th>\n",
       "      <td>broome</td>\n",
       "      <td>42.2506</td>\n",
       "      <td>-75.833</td>\n",
       "      <td>264.0</td>\n",
       "      <td>69.0</td>\n",
       "      <td>0.0</td>\n",
       "      <td>0.89</td>\n",
       "      <td>US</td>\n",
       "      <td>1644100023</td>\n",
       "    </tr>\n",
       "    <tr>\n",
       "      <th>625</th>\n",
       "      <td>bambous virieux</td>\n",
       "      <td>-20.3428</td>\n",
       "      <td>57.7575</td>\n",
       "      <td>299.0</td>\n",
       "      <td>89.0</td>\n",
       "      <td>40.0</td>\n",
       "      <td>5.14</td>\n",
       "      <td>MU</td>\n",
       "      <td>1644100024</td>\n",
       "    </tr>\n",
       "    <tr>\n",
       "      <th>626</th>\n",
       "      <td>cabedelo</td>\n",
       "      <td>-6.9811</td>\n",
       "      <td>-34.8339</td>\n",
       "      <td>299.0</td>\n",
       "      <td>69.0</td>\n",
       "      <td>23.0</td>\n",
       "      <td>5.18</td>\n",
       "      <td>BR</td>\n",
       "      <td>1644100024</td>\n",
       "    </tr>\n",
       "  </tbody>\n",
       "</table>\n",
       "<p>578 rows × 9 columns</p>\n",
       "</div>"
      ],
      "text/plain": [
       "                city      lat       lng  max temp  humidity  cloudiness  \\\n",
       "1         butaritari   3.0707  172.7902     301.0      73.0        52.0   \n",
       "2             mandan  46.8267 -100.8896     280.0      72.0         0.0   \n",
       "3              pisco    -13.7  -76.2167     296.0      83.0         0.0   \n",
       "4          geraldton -28.7667     114.6     296.0      88.0       100.0   \n",
       "5         solnechnyy  50.7214  136.6319     256.0      98.0       100.0   \n",
       "..               ...      ...       ...       ...       ...         ...   \n",
       "621           palana  59.1167  159.9667     258.0      86.0       100.0   \n",
       "622            wuxue  29.8506  115.5525     276.0      56.0        98.0   \n",
       "623           broome  42.2506   -75.833     264.0      69.0         0.0   \n",
       "625  bambous virieux -20.3428   57.7575     299.0      89.0        40.0   \n",
       "626         cabedelo  -6.9811  -34.8339     299.0      69.0        23.0   \n",
       "\n",
       "     windspeed country        date  \n",
       "1         8.64      KI  1644099844  \n",
       "2         3.60      US  1644099845  \n",
       "3         3.60      PE  1644099835  \n",
       "4         4.63      AU  1644099845  \n",
       "5         0.23      RU  1644099845  \n",
       "..         ...     ...         ...  \n",
       "621       3.55      RU  1644100023  \n",
       "622       3.69      CN  1644100023  \n",
       "623       0.89      US  1644100023  \n",
       "625       5.14      MU  1644100024  \n",
       "626       5.18      BR  1644100024  \n",
       "\n",
       "[578 rows x 9 columns]"
      ]
     },
     "execution_count": 139,
     "metadata": {},
     "output_type": "execute_result"
    }
   ],
   "source": [
    "city_df = city_info_df[city_info_df['humidity'] <= 100]\n",
    "city_df"
   ]
  },
  {
   "cell_type": "code",
   "execution_count": 152,
   "metadata": {},
   "outputs": [
    {
     "data": {
      "text/plain": [
       "max temp      578\n",
       "humidity      578\n",
       "cloudiness    578\n",
       "windspeed     578\n",
       "dtype: int64"
      ]
     },
     "execution_count": 152,
     "metadata": {},
     "output_type": "execute_result"
    }
   ],
   "source": [
    "mean = city_df[['max temp', 'humidity', 'cloudiness', 'windspeed']].mean()\n",
    "median = city_df[['max temp', 'humidity', 'cloudiness', 'windspeed']].median()\n",
    "mode = city_df[['max temp', 'humidity', 'cloudiness', 'windspeed']].mode\n",
    "variance = city_df[['max temp', 'humidity', 'cloudiness', 'windspeed']].var()\n",
    "std = city_df[['max temp', 'humidity', 'cloudiness', 'windspeed']].std()\n",
    "min = city_df[['max temp', 'humidity', 'cloudiness', 'windspeed']].min()\n",
    "max = city_df[['max temp', 'humidity', 'cloudiness', 'windspeed']].max()\n",
    "count = city_df[['max temp', 'humidity', 'cloudiness', 'windspeed']].count()\n",
    "count"
   ]
  },
  {
   "cell_type": "code",
   "execution_count": 212,
   "metadata": {},
   "outputs": [
    {
     "data": {
      "text/html": [
       "<div>\n",
       "<style scoped>\n",
       "    .dataframe tbody tr th:only-of-type {\n",
       "        vertical-align: middle;\n",
       "    }\n",
       "\n",
       "    .dataframe tbody tr th {\n",
       "        vertical-align: top;\n",
       "    }\n",
       "\n",
       "    .dataframe thead th {\n",
       "        text-align: right;\n",
       "    }\n",
       "</style>\n",
       "<table border=\"1\" class=\"dataframe\">\n",
       "  <thead>\n",
       "    <tr style=\"text-align: right;\">\n",
       "      <th></th>\n",
       "      <th>max temp</th>\n",
       "      <th>humidity</th>\n",
       "      <th>cloudiness</th>\n",
       "      <th>windspeed</th>\n",
       "    </tr>\n",
       "  </thead>\n",
       "  <tbody>\n",
       "    <tr>\n",
       "      <th>0</th>\n",
       "      <td>578</td>\n",
       "      <td>578</td>\n",
       "      <td>578</td>\n",
       "      <td>578</td>\n",
       "    </tr>\n",
       "  </tbody>\n",
       "</table>\n",
       "</div>"
      ],
      "text/plain": [
       "   max temp  humidity  cloudiness  windspeed\n",
       "0       578       578         578        578"
      ]
     },
     "execution_count": 212,
     "metadata": {},
     "output_type": "execute_result"
    }
   ],
   "source": [
    "df = pd.DataFrame(count)\n",
    "df = df.T\n",
    "df\n",
    "\n"
   ]
  },
  {
   "cell_type": "code",
   "execution_count": 214,
   "metadata": {},
   "outputs": [
    {
     "data": {
      "text/html": [
       "<div>\n",
       "<style scoped>\n",
       "    .dataframe tbody tr th:only-of-type {\n",
       "        vertical-align: middle;\n",
       "    }\n",
       "\n",
       "    .dataframe tbody tr th {\n",
       "        vertical-align: top;\n",
       "    }\n",
       "\n",
       "    .dataframe thead th {\n",
       "        text-align: right;\n",
       "    }\n",
       "</style>\n",
       "<table border=\"1\" class=\"dataframe\">\n",
       "  <thead>\n",
       "    <tr style=\"text-align: right;\">\n",
       "      <th></th>\n",
       "      <th>max temp</th>\n",
       "      <th>humidity</th>\n",
       "      <th>cloudiness</th>\n",
       "      <th>windspeed</th>\n",
       "    </tr>\n",
       "  </thead>\n",
       "  <tbody>\n",
       "    <tr>\n",
       "      <th>count</th>\n",
       "      <td>578</td>\n",
       "      <td>578</td>\n",
       "      <td>578</td>\n",
       "      <td>578</td>\n",
       "    </tr>\n",
       "  </tbody>\n",
       "</table>\n",
       "</div>"
      ],
      "text/plain": [
       "       max temp  humidity  cloudiness  windspeed\n",
       "count       578       578         578        578"
      ]
     },
     "execution_count": 214,
     "metadata": {},
     "output_type": "execute_result"
    }
   ],
   "source": [
    "df = df.rename(index={0:'count'})\n",
    "df"
   ]
  },
  {
   "cell_type": "markdown",
   "metadata": {},
   "source": [
    "## Plotting the Data\n",
    "* Use proper labeling of the plots using plot titles (including date of analysis) and axes labels.\n",
    "* Save the plotted figures as .pngs."
   ]
  },
  {
   "cell_type": "markdown",
   "metadata": {},
   "source": [
    "## Latitude vs. Temperature Plot"
   ]
  },
  {
   "cell_type": "code",
   "execution_count": 164,
   "metadata": {
    "scrolled": true
   },
   "outputs": [
    {
     "data": {
      "text/plain": [
       "Text(0, 0.5, 'max Temp')"
      ]
     },
     "execution_count": 164,
     "metadata": {},
     "output_type": "execute_result"
    },
    {
     "data": {
      "image/png": "[encoded data removed]",
      "text/plain": [
       "<Figure size 432x288 with 1 Axes>"
      ]
     },
     "metadata": {
      "needs_background": "light"
     },
     "output_type": "display_data"
    }
   ],
   "source": [
    "\n",
    "plt.scatter(city_df['lat'],city_df['max temp'],marker='o',alpha=0.75)\n",
    "plt.title(\"Lat vs Max Temp\")\n",
    "plt.xlabel('latitude')\n",
    "plt.ylabel('max Temp')"
   ]
  },
  {
   "cell_type": "markdown",
   "metadata": {},
   "source": [
    "## Latitude vs. Humidity Plot"
   ]
  },
  {
   "cell_type": "code",
   "execution_count": 165,
   "metadata": {},
   "outputs": [
    {
     "data": {
      "text/plain": [
       "Text(0, 0.5, 'humidity')"
      ]
     },
     "execution_count": 165,
     "metadata": {},
     "output_type": "execute_result"
    },
    {
     "data": {
      "image/png": "[encoded data removed]",
      "text/plain": [
       "<Figure size 432x288 with 1 Axes>"
      ]
     },
     "metadata": {
      "needs_background": "light"
     },
     "output_type": "display_data"
    }
   ],
   "source": [
    "plt.scatter(city_df['lat'],city_df['humidity'],marker='o',alpha=0.75)\n",
    "plt.title(\"Lat vs humidity\")\n",
    "plt.xlabel('latitude')\n",
    "plt.ylabel('humidity')"
   ]
  },
  {
   "cell_type": "markdown",
   "metadata": {},
   "source": [
    "## Latitude vs. Cloudiness Plot"
   ]
  },
  {
   "cell_type": "code",
   "execution_count": 166,
   "metadata": {},
   "outputs": [
    {
     "data": {
      "text/plain": [
       "Text(0, 0.5, 'cloudiness')"
      ]
     },
     "execution_count": 166,
     "metadata": {},
     "output_type": "execute_result"
    },
    {
     "data": {
      "image/png": "[encoded data removed]",
      "text/plain": [
       "<Figure size 432x288 with 1 Axes>"
      ]
     },
     "metadata": {
      "needs_background": "light"
     },
     "output_type": "display_data"
    }
   ],
   "source": [
    "plt.scatter(city_df['lat'],city_df['cloudiness'],marker='o',alpha=0.75)\n",
    "plt.title(\"Lat vs cloudiness\")\n",
    "plt.xlabel('latitude')\n",
    "plt.ylabel('cloudiness')"
   ]
  },
  {
   "cell_type": "markdown",
   "metadata": {},
   "source": [
    "## Latitude vs. Wind Speed Plot"
   ]
  },
  {
   "cell_type": "code",
   "execution_count": 167,
   "metadata": {},
   "outputs": [
    {
     "data": {
      "text/plain": [
       "Text(0, 0.5, 'windspeed')"
      ]
     },
     "execution_count": 167,
     "metadata": {},
     "output_type": "execute_result"
    },
    {
     "data": {
      "image/png": "[encoded data removed]",
      "text/plain": [
       "<Figure size 432x288 with 1 Axes>"
      ]
     },
     "metadata": {
      "needs_background": "light"
     },
     "output_type": "display_data"
    }
   ],
   "source": [
    "plt.scatter(city_df['lat'],city_df['windspeed'],marker='o',alpha=0.75)\n",
    "plt.title(\"Lat vs windspeed\")\n",
    "plt.xlabel('latitude')\n",
    "plt.ylabel('windspeed')"
   ]
  },
  {
   "cell_type": "markdown",
   "metadata": {},
   "source": [
    "## Linear Regression"
   ]
  },
  {
   "cell_type": "code",
   "execution_count": 176,
   "metadata": {},
   "outputs": [
    {
     "name": "stderr",
     "output_type": "stream",
     "text": [
      "/var/folders/4s/j3_l93ts54qgnyg57c9s590m0000gn/T/ipykernel_26568/2994345698.py:3: SettingWithCopyWarning: \n",
      "A value is trying to be set on a copy of a slice from a DataFrame.\n",
      "Try using .loc[row_indexer,col_indexer] = value instead\n",
      "\n",
      "See the caveats in the documentation: https://pandas.pydata.org/pandas-docs/stable/user_guide/indexing.html#returning-a-view-versus-a-copy\n",
      "  north_city_df['lat'] = north_city_df['lat'].astype(float)\n",
      "/var/folders/4s/j3_l93ts54qgnyg57c9s590m0000gn/T/ipykernel_26568/2994345698.py:4: SettingWithCopyWarning: \n",
      "A value is trying to be set on a copy of a slice from a DataFrame.\n",
      "Try using .loc[row_indexer,col_indexer] = value instead\n",
      "\n",
      "See the caveats in the documentation: https://pandas.pydata.org/pandas-docs/stable/user_guide/indexing.html#returning-a-view-versus-a-copy\n",
      "  south_city_df['lat'] = south_city_df['lat'].astype(float)\n"
     ]
    }
   ],
   "source": [
    "north_city_df = city_df[city_df['lat'] >= 0]\n",
    "south_city_df = city_df[city_df['lat'] <= 0]\n",
    "north_city_df['lat'] = north_city_df['lat'].astype(float)\n",
    "south_city_df['lat'] = south_city_df['lat'].astype(float)"
   ]
  },
  {
   "cell_type": "markdown",
   "metadata": {},
   "source": [
    "####  Northern Hemisphere - Max Temp vs. Latitude Linear Regression"
   ]
  },
  {
   "cell_type": "code",
   "execution_count": 180,
   "metadata": {},
   "outputs": [
    {
     "name": "stdout",
     "output_type": "stream",
     "text": [
      "The r-squared is: 0.7139217844862245\n"
     ]
    },
    {
     "data": {
      "image/png": "[encoded data removed]",
      "text/plain": [
       "<Figure size 432x288 with 1 Axes>"
      ]
     },
     "metadata": {
      "needs_background": "light"
     },
     "output_type": "display_data"
    }
   ],
   "source": [
    "x_values = north_city_df['lat']\n",
    "y_values = north_city_df['max temp']\n",
    "(slope, intercept, rvalue, pvalue, stderr) = linregress(x_values, y_values)\n",
    "regress_values = x_values * slope + intercept\n",
    "line_eq = \"y = \" + str(round(slope,2)) + \"x + \" + str(round(intercept,2))\n",
    "plt.scatter(x_values,y_values)\n",
    "plt.plot(x_values,regress_values,\"r-\")\n",
    "plt.annotate(line_eq,(0,240),fontsize=15,color=\"red\")\n",
    "plt.title(\"Northern Hemisphere - max temp vs latitude\")\n",
    "plt.xlabel('latitude')\n",
    "plt.ylabel('max temp')\n",
    "print(f\"The r-squared is: {rvalue**2}\")\n",
    "plt.show()"
   ]
  },
  {
   "cell_type": "markdown",
   "metadata": {},
   "source": [
    "####  Southern Hemisphere - Max Temp vs. Latitude Linear Regression"
   ]
  },
  {
   "cell_type": "code",
   "execution_count": 186,
   "metadata": {},
   "outputs": [
    {
     "name": "stdout",
     "output_type": "stream",
     "text": [
      "The r-squared is: 0.4052323130336205\n"
     ]
    },
    {
     "data": {
      "image/png": "[encoded data removed]",
      "text/plain": [
       "<Figure size 432x288 with 1 Axes>"
      ]
     },
     "metadata": {
      "needs_background": "light"
     },
     "output_type": "display_data"
    }
   ],
   "source": [
    "x_values = south_city_df['lat']\n",
    "y_values = south_city_df['max temp']\n",
    "(slope, intercept, rvalue, pvalue, stderr) = linregress(x_values, y_values)\n",
    "regress_values = x_values * slope + intercept\n",
    "line_eq = \"y = \" + str(round(slope,2)) + \"x + \" + str(round(intercept,2))\n",
    "plt.scatter(x_values,y_values)\n",
    "plt.plot(x_values,regress_values,\"r-\")\n",
    "plt.annotate(line_eq,(-55,300),fontsize=15,color=\"red\")\n",
    "plt.title(\"Sothern Hemisphere - max temp vs latitude\")\n",
    "plt.xlabel('latitude')\n",
    "plt.ylabel('max temp')\n",
    "print(f\"The r-squared is: {rvalue**2}\")\n",
    "plt.show()"
   ]
  },
  {
   "cell_type": "markdown",
   "metadata": {},
   "source": [
    "####  Northern Hemisphere - Humidity (%) vs. Latitude Linear Regression"
   ]
  },
  {
   "cell_type": "code",
   "execution_count": 185,
   "metadata": {},
   "outputs": [
    {
     "name": "stdout",
     "output_type": "stream",
     "text": [
      "The r-squared is: 0.13783047278245147\n"
     ]
    },
    {
     "data": {
      "image/png": "[encoded data removed]",
      "text/plain": [
       "<Figure size 432x288 with 1 Axes>"
      ]
     },
     "metadata": {
      "needs_background": "light"
     },
     "output_type": "display_data"
    }
   ],
   "source": [
    "x_values = north_city_df['lat']\n",
    "y_values = north_city_df['humidity']\n",
    "(slope, intercept, rvalue, pvalue, stderr) = linregress(x_values, y_values)\n",
    "regress_values = x_values * slope + intercept\n",
    "line_eq = \"y = \" + str(round(slope,2)) + \"x + \" + str(round(intercept,2))\n",
    "plt.scatter(x_values,y_values)\n",
    "plt.plot(x_values,regress_values,\"r-\")\n",
    "plt.annotate(line_eq,(50,15),fontsize=15,color=\"red\")\n",
    "plt.title(\"Northern Hemisphere - humidity vs latitude\")\n",
    "plt.xlabel('latitude')\n",
    "plt.ylabel('humidity')\n",
    "print(f\"The r-squared is: {rvalue**2}\")\n",
    "plt.show()"
   ]
  },
  {
   "cell_type": "markdown",
   "metadata": {},
   "source": [
    "####  Southern Hemisphere - Humidity (%) vs. Latitude Linear Regression"
   ]
  },
  {
   "cell_type": "code",
   "execution_count": 187,
   "metadata": {},
   "outputs": [
    {
     "name": "stdout",
     "output_type": "stream",
     "text": [
      "The r-squared is: 0.10412039796269842\n"
     ]
    },
    {
     "data": {
      "image/png": "[encoded data removed]",
      "text/plain": [
       "<Figure size 432x288 with 1 Axes>"
      ]
     },
     "metadata": {
      "needs_background": "light"
     },
     "output_type": "display_data"
    }
   ],
   "source": [
    "x_values = south_city_df['lat']\n",
    "y_values = south_city_df['humidity']\n",
    "(slope, intercept, rvalue, pvalue, stderr) = linregress(x_values, y_values)\n",
    "regress_values = x_values * slope + intercept\n",
    "line_eq = \"y = \" + str(round(slope,2)) + \"x + \" + str(round(intercept,2))\n",
    "plt.scatter(x_values,y_values)\n",
    "plt.plot(x_values,regress_values,\"r-\")\n",
    "plt.annotate(line_eq,(-55,25),fontsize=15,color=\"red\")\n",
    "plt.title(\"Southern Hemisphere - humidity vs latitude\")\n",
    "plt.xlabel('latitude')\n",
    "plt.ylabel('humidity')\n",
    "print(f\"The r-squared is: {rvalue**2}\")\n",
    "plt.show()"
   ]
  },
  {
   "cell_type": "markdown",
   "metadata": {},
   "source": [
    "####  Northern Hemisphere - Cloudiness (%) vs. Latitude Linear Regression"
   ]
  },
  {
   "cell_type": "code",
   "execution_count": 194,
   "metadata": {},
   "outputs": [
    {
     "name": "stdout",
     "output_type": "stream",
     "text": [
      "The r-squared is: 0.06893404966352805\n"
     ]
    },
    {
     "data": {
      "image/png": "[encoded data removed]",
      "text/plain": [
       "<Figure size 432x288 with 1 Axes>"
      ]
     },
     "metadata": {
      "needs_background": "light"
     },
     "output_type": "display_data"
    }
   ],
   "source": [
    "x_values = north_city_df['lat']\n",
    "y_values = north_city_df['cloudiness']\n",
    "(slope, intercept, rvalue, pvalue, stderr) = linregress(x_values, y_values)\n",
    "regress_values = x_values * slope + intercept\n",
    "line_eq = \"y = \" + str(round(slope,2)) + \"x + \" + str(round(intercept,2))\n",
    "plt.scatter(x_values,y_values)\n",
    "plt.plot(x_values,regress_values,\"r-\")\n",
    "plt.annotate(line_eq,(10,60),fontsize=15,color=\"red\")\n",
    "plt.title(\"Northern Hemisphere - cloudiness vs latitude\")\n",
    "plt.xlabel('latitude')\n",
    "plt.ylabel('cloudiness')\n",
    "print(f\"The r-squared is: {rvalue**2}\")\n",
    "plt.show()"
   ]
  },
  {
   "cell_type": "markdown",
   "metadata": {},
   "source": [
    "####  Southern Hemisphere - Cloudiness (%) vs. Latitude Linear Regression"
   ]
  },
  {
   "cell_type": "code",
   "execution_count": 193,
   "metadata": {},
   "outputs": [
    {
     "name": "stdout",
     "output_type": "stream",
     "text": [
      "The r-squared is: 0.007217270243417437\n"
     ]
    },
    {
     "data": {
      "image/png": "[encoded data removed]",
      "text/plain": [
       "<Figure size 432x288 with 1 Axes>"
      ]
     },
     "metadata": {
      "needs_background": "light"
     },
     "output_type": "display_data"
    }
   ],
   "source": [
    "x_values = south_city_df['lat']\n",
    "y_values = south_city_df['cloudiness']\n",
    "(slope, intercept, rvalue, pvalue, stderr) = linregress(x_values, y_values)\n",
    "regress_values = x_values * slope + intercept\n",
    "line_eq = \"y = \" + str(round(slope,2)) + \"x + \" + str(round(intercept,2))\n",
    "plt.scatter(x_values,y_values)\n",
    "plt.plot(x_values,regress_values,\"r-\")\n",
    "plt.annotate(line_eq,(-50,50),fontsize=15,color=\"red\")\n",
    "plt.title(\"Southern Hemisphere - cloudiness vs latitude\")\n",
    "plt.xlabel('latitude')\n",
    "plt.ylabel('cloudiness')\n",
    "print(f\"The r-squared is: {rvalue**2}\")\n",
    "plt.show()"
   ]
  },
  {
   "cell_type": "markdown",
   "metadata": {},
   "source": [
    "####  Northern Hemisphere - Wind Speed (mph) vs. Latitude Linear Regression"
   ]
  },
  {
   "cell_type": "code",
   "execution_count": 196,
   "metadata": {},
   "outputs": [
    {
     "name": "stdout",
     "output_type": "stream",
     "text": [
      "The r-squared is: 0.011806418406549578\n"
     ]
    },
    {
     "data": {
      "image/png": "[encoded data removed]",
      "text/plain": [
       "<Figure size 432x288 with 1 Axes>"
      ]
     },
     "metadata": {
      "needs_background": "light"
     },
     "output_type": "display_data"
    }
   ],
   "source": [
    "x_values = north_city_df['lat']\n",
    "y_values = north_city_df['windspeed']\n",
    "(slope, intercept, rvalue, pvalue, stderr) = linregress(x_values, y_values)\n",
    "regress_values = x_values * slope + intercept\n",
    "line_eq = \"y = \" + str(round(slope,2)) + \"x + \" + str(round(intercept,2))\n",
    "plt.scatter(x_values,y_values)\n",
    "plt.plot(x_values,regress_values,\"r-\")\n",
    "plt.annotate(line_eq,(10,10),fontsize=15,color=\"red\")\n",
    "plt.title(\"Northern Hemisphere - windspeed vs latitude\")\n",
    "plt.xlabel('latitude')\n",
    "plt.ylabel('windspeed')\n",
    "print(f\"The r-squared is: {rvalue**2}\")\n",
    "plt.show()"
   ]
  },
  {
   "cell_type": "markdown",
   "metadata": {},
   "source": [
    "####  Southern Hemisphere - Wind Speed (mph) vs. Latitude Linear Regression"
   ]
  },
  {
   "cell_type": "code",
   "execution_count": 198,
   "metadata": {},
   "outputs": [
    {
     "name": "stdout",
     "output_type": "stream",
     "text": [
      "The r-squared is: 0.06254622155548624\n"
     ]
    },
    {
     "data": {
      "image/png": "[encoded data removed]",
      "text/plain": [
       "<Figure size 432x288 with 1 Axes>"
      ]
     },
     "metadata": {
      "needs_background": "light"
     },
     "output_type": "display_data"
    }
   ],
   "source": [
    "x_values = south_city_df['lat']\n",
    "y_values = south_city_df['windspeed']\n",
    "(slope, intercept, rvalue, pvalue, stderr) = linregress(x_values, y_values)\n",
    "regress_values = x_values * slope + intercept\n",
    "line_eq = \"y = \" + str(round(slope,2)) + \"x + \" + str(round(intercept,2))\n",
    "plt.scatter(x_values,y_values)\n",
    "plt.plot(x_values,regress_values,\"r-\")\n",
    "plt.annotate(line_eq,(-50,6),fontsize=15,color=\"red\")\n",
    "plt.title(\"Southern Hemisphere - windspeed vs latitude\")\n",
    "plt.xlabel('latitude')\n",
    "plt.ylabel('windspeed')\n",
    "print(f\"The r-squared is: {rvalue**2}\")\n",
    "plt.show()"
   ]
  }
 ],
 "metadata": {
  "anaconda-cloud": {},
  "interpreter": {
   "hash": "3067ead486e059ec00ffe7555bdb889e6e264a24dc711bf108106cc7baee8d5d"
  },
  "kernel_info": {
   "name": "python3"
  },
  "kernelspec": {
   "display_name": "mypydev",
   "language": "python",
   "name": "python3"
  },
  "language_info": {
   "codemirror_mode": {
    "name": "ipython",
    "version": 3
   },
   "file_extension": ".py",
   "mimetype": "text/x-python",
   "name": "python",
   "nbconvert_exporter": "python",
   "pygments_lexer": "ipython3",
   "version": "3.9.7"
  },
  "latex_envs": {
   "LaTeX_envs_menu_present": true,
   "autoclose": false,
   "autocomplete": true,
   "bibliofile": "biblio.bib",
   "cite_by": "apalike",
   "current_citInitial": 1,
   "eqLabelWithNumbers": true,
   "eqNumInitial": 1,
   "hotkeys": {
    "equation": "Ctrl-E",
    "itemize": "Ctrl-I"
   },
   "labels_anchors": false,
   "latex_user_defs": false,
   "report_style_numbering": false,
   "user_envs_cfg": false
  },
  "nteract": {
   "version": "0.12.3"
  }
 },
 "nbformat": 4,
 "nbformat_minor": 2
}
